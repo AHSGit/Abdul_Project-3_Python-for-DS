{
 "cells": [
  {
   "cell_type": "markdown",
   "id": "83f26a29",
   "metadata": {
    "id": "83f26a29"
   },
   "source": [
    "<br>\n",
    "\n",
    "# Graded Project\n",
    "### Web Development using Flask\n",
    "<hr>"
   ]
  },
  {
   "cell_type": "markdown",
   "id": "8ea571d1",
   "metadata": {
    "id": "8ea571d1"
   },
   "source": [
    "## Domain:\n",
    "- Finance and Banking"
   ]
  },
  {
   "cell_type": "markdown",
   "id": "fd7f778a",
   "metadata": {
    "id": "fd7f778a"
   },
   "source": [
    "## Business Context:\n",
    "- Dream Housing Finance company deals in all home loans. They have presence across all urban, semi urban and rural areas. Customers first apply for a home loan after that company manually validates the customer eligibility for loan. Company wants to automate the loan eligibility process based on customer detail provided while filling the details online. They need a web application where a user can access their website and register, login, and enter the required details such as Gender, Marital Status, Education, Number of Dependents, Income, Loan Amount, Credit History and others for checking the eligibility for the home loan."
   ]
  },
  {
   "cell_type": "markdown",
   "id": "867166aa",
   "metadata": {
    "id": "867166aa"
   },
   "source": [
    "## Dataset Description:\n",
    "Dataset to classify whether a person will get loan or not. This is a classification problem. The dataset contains 13 columns where, the loan_status column is the one we have to predict."
   ]
  },
  {
   "cell_type": "code",
   "execution_count": 1,
   "id": "6f0b40e6",
   "metadata": {},
   "outputs": [
    {
     "data": {
      "text/html": [
       "<style>\n",
       "table {float:left}\n",
       "</style>\n"
      ],
      "text/plain": [
       "<IPython.core.display.HTML object>"
      ]
     },
     "metadata": {},
     "output_type": "display_data"
    }
   ],
   "source": [
    "%%html\n",
    "<style>\n",
    "table {float:left}\n",
    "</style>"
   ]
  },
  {
   "cell_type": "markdown",
   "id": "cafb1076",
   "metadata": {},
   "source": [
    "## Attribute Information:\n",
    "\n",
    "| SL.No | Attribute | Description |\n",
    "|:-|:-|:-|\n",
    "|1. | Loan ID | Unique Loan ID\n",
    "|2. | Gender | Male or Female\n",
    "|3. | Married | Applicant married (Y/N)\n",
    "|4. | Dependents | Number of dependents\n",
    "|5. | Self employed | Self employed (Y/N)\n",
    "|6. | Education | Graduate/Undergraduate\n",
    "|7. | Applicant Income | Applicant income (in dollars)\n",
    "|8. | Co Applicant Income | Co Applicant Income (in dollars)\n",
    "|9. | Loan Amount | Loan amount in thousands (in dollars)\n",
    "|10. | Loan Amount Term | Term of loan in months\n",
    "|11. | Credit History | Credit history meets guidelines Yes/No\n",
    "|12. | Property area | Urban/Semi Urban/Rural\n",
    "|13. | Loan Status (Target) | Loan Approved (Y/N)"
   ]
  },
  {
   "cell_type": "markdown",
   "id": "42bb569c",
   "metadata": {},
   "source": [
    "## Data Citation:\n",
    "- Siddharth Sharma, Machine Learning Developer at DBlockchainers, Bengaluru, Karnataka, India. <br>\n",
    " https://www.kaggle.com/datasets/ssiddharth408/loan-prediction-dataset"
   ]
  },
  {
   "cell_type": "markdown",
   "id": "e941e709",
   "metadata": {},
   "source": [
    "## Project Objective:\n",
    "- This is a standard supervised classification task. A classification problem where we have to predict whether a customer is eligible for loan or not based on a given set of independent variable(s).\n",
    "- To build a Python Flask ML application where a user has to get registered by entering the username and password and login to the website and then enter their details to check whether they are eligible for loan or not."
   ]
  },
  {
   "cell_type": "markdown",
   "id": "e4059ba6",
   "metadata": {
    "id": "e4059ba6"
   },
   "source": [
    "### 1. Import required libraries and read the dataset. (2)"
   ]
  },
  {
   "cell_type": "code",
   "execution_count": 2,
   "id": "5b4f47f1",
   "metadata": {},
   "outputs": [],
   "source": [
    "## Importing the required libraries\n",
    "import pandas as pd\n",
    "import numpy as np\n",
    "import seaborn as sns\n",
    "import matplotlib.pyplot as plt\n",
    "%matplotlib inline\n",
    "\n",
    "from sklearn.preprocessing import LabelEncoder\n",
    "from sklearn.model_selection import train_test_split\n",
    "from sklearn.metrics import accuracy_score\n",
    "from sklearn.linear_model import LogisticRegression\n",
    "\n",
    "# from sklearn.tree import DecisionTreeClassifier\n",
    "# from sklearn.ensemble import AdaBoostClassifier\n",
    "# from sklearn.ensemble import GradientBoostingClassifier\n",
    "# from sklearn.ensemble import StackingClassifier\n",
    "# from sklearn.naive_bayes import GaussianNB\n",
    "\n",
    "import warnings\n",
    "warnings.filterwarnings('ignore')"
   ]
  },
  {
   "cell_type": "code",
   "execution_count": 3,
   "id": "bed82ac8",
   "metadata": {},
   "outputs": [],
   "source": [
    "## Loading the dataset\n",
    "df = pd.read_csv(r'loan_approval_data.csv')"
   ]
  },
  {
   "cell_type": "markdown",
   "id": "8c79a95e",
   "metadata": {
    "id": "8c79a95e"
   },
   "source": [
    "### 2. Check the first few samples, shape, info of the data, and familiarize yourself with different features. (2)"
   ]
  },
  {
   "cell_type": "code",
   "execution_count": 4,
   "id": "4b9c0ea7",
   "metadata": {},
   "outputs": [
    {
     "data": {
      "text/html": [
       "<div>\n",
       "<style scoped>\n",
       "    .dataframe tbody tr th:only-of-type {\n",
       "        vertical-align: middle;\n",
       "    }\n",
       "\n",
       "    .dataframe tbody tr th {\n",
       "        vertical-align: top;\n",
       "    }\n",
       "\n",
       "    .dataframe thead th {\n",
       "        text-align: right;\n",
       "    }\n",
       "</style>\n",
       "<table border=\"1\" class=\"dataframe\">\n",
       "  <thead>\n",
       "    <tr style=\"text-align: right;\">\n",
       "      <th></th>\n",
       "      <th>loan_id</th>\n",
       "      <th>gender</th>\n",
       "      <th>married</th>\n",
       "      <th>dependents</th>\n",
       "      <th>education</th>\n",
       "      <th>self_employed</th>\n",
       "      <th>applicantincome</th>\n",
       "      <th>coapplicantincome</th>\n",
       "      <th>loanamount</th>\n",
       "      <th>loan_amount_term</th>\n",
       "      <th>credit_history</th>\n",
       "      <th>property_area</th>\n",
       "      <th>loan_status</th>\n",
       "    </tr>\n",
       "  </thead>\n",
       "  <tbody>\n",
       "    <tr>\n",
       "      <th>49</th>\n",
       "      <td>lp001151</td>\n",
       "      <td>female</td>\n",
       "      <td>no</td>\n",
       "      <td>0.0</td>\n",
       "      <td>graduate</td>\n",
       "      <td>no</td>\n",
       "      <td>4000</td>\n",
       "      <td>2275.0</td>\n",
       "      <td>144.0</td>\n",
       "      <td>360.0</td>\n",
       "      <td>1.0</td>\n",
       "      <td>semiurban</td>\n",
       "      <td>y</td>\n",
       "    </tr>\n",
       "    <tr>\n",
       "      <th>81</th>\n",
       "      <td>lp001266</td>\n",
       "      <td>male</td>\n",
       "      <td>yes</td>\n",
       "      <td>1.0</td>\n",
       "      <td>graduate</td>\n",
       "      <td>yes</td>\n",
       "      <td>2395</td>\n",
       "      <td>0.0</td>\n",
       "      <td>NaN</td>\n",
       "      <td>360.0</td>\n",
       "      <td>1.0</td>\n",
       "      <td>semiurban</td>\n",
       "      <td>y</td>\n",
       "    </tr>\n",
       "    <tr>\n",
       "      <th>144</th>\n",
       "      <td>lp001508</td>\n",
       "      <td>male</td>\n",
       "      <td>yes</td>\n",
       "      <td>2.0</td>\n",
       "      <td>graduate</td>\n",
       "      <td>no</td>\n",
       "      <td>11757</td>\n",
       "      <td>0.0</td>\n",
       "      <td>187.0</td>\n",
       "      <td>180.0</td>\n",
       "      <td>1.0</td>\n",
       "      <td>urban</td>\n",
       "      <td>y</td>\n",
       "    </tr>\n",
       "    <tr>\n",
       "      <th>399</th>\n",
       "      <td>lp002287</td>\n",
       "      <td>female</td>\n",
       "      <td>no</td>\n",
       "      <td>0.0</td>\n",
       "      <td>graduate</td>\n",
       "      <td>no</td>\n",
       "      <td>1500</td>\n",
       "      <td>1800.0</td>\n",
       "      <td>103.0</td>\n",
       "      <td>360.0</td>\n",
       "      <td>0.0</td>\n",
       "      <td>semiurban</td>\n",
       "      <td>n</td>\n",
       "    </tr>\n",
       "    <tr>\n",
       "      <th>444</th>\n",
       "      <td>lp002424</td>\n",
       "      <td>male</td>\n",
       "      <td>yes</td>\n",
       "      <td>0.0</td>\n",
       "      <td>graduate</td>\n",
       "      <td>no</td>\n",
       "      <td>7333</td>\n",
       "      <td>8333.0</td>\n",
       "      <td>175.0</td>\n",
       "      <td>300.0</td>\n",
       "      <td>NaN</td>\n",
       "      <td>rural</td>\n",
       "      <td>y</td>\n",
       "    </tr>\n",
       "  </tbody>\n",
       "</table>\n",
       "</div>"
      ],
      "text/plain": [
       "      loan_id  gender married  dependents education self_employed  \\\n",
       "49   lp001151  female      no         0.0  graduate            no   \n",
       "81   lp001266    male     yes         1.0  graduate           yes   \n",
       "144  lp001508    male     yes         2.0  graduate            no   \n",
       "399  lp002287  female      no         0.0  graduate            no   \n",
       "444  lp002424    male     yes         0.0  graduate            no   \n",
       "\n",
       "     applicantincome  coapplicantincome  loanamount  loan_amount_term  \\\n",
       "49              4000             2275.0       144.0             360.0   \n",
       "81              2395                0.0         NaN             360.0   \n",
       "144            11757                0.0       187.0             180.0   \n",
       "399             1500             1800.0       103.0             360.0   \n",
       "444             7333             8333.0       175.0             300.0   \n",
       "\n",
       "     credit_history property_area loan_status  \n",
       "49              1.0     semiurban           y  \n",
       "81              1.0     semiurban           y  \n",
       "144             1.0         urban           y  \n",
       "399             0.0     semiurban           n  \n",
       "444             NaN         rural           y  "
      ]
     },
     "execution_count": 4,
     "metadata": {},
     "output_type": "execute_result"
    }
   ],
   "source": [
    "## 5 random samples\n",
    "df.sample(5)"
   ]
  },
  {
   "cell_type": "code",
   "execution_count": 5,
   "id": "a5e45f1f",
   "metadata": {},
   "outputs": [
    {
     "data": {
      "text/plain": [
       "(614, 13)"
      ]
     },
     "execution_count": 5,
     "metadata": {},
     "output_type": "execute_result"
    }
   ],
   "source": [
    "## Shape of the data\n",
    "df.shape"
   ]
  },
  {
   "cell_type": "code",
   "execution_count": 6,
   "id": "f2ac4f5c",
   "metadata": {},
   "outputs": [
    {
     "name": "stdout",
     "output_type": "stream",
     "text": [
      "<class 'pandas.core.frame.DataFrame'>\n",
      "RangeIndex: 614 entries, 0 to 613\n",
      "Data columns (total 13 columns):\n",
      " #   Column             Non-Null Count  Dtype  \n",
      "---  ------             --------------  -----  \n",
      " 0   loan_id            614 non-null    object \n",
      " 1   gender             601 non-null    object \n",
      " 2   married            611 non-null    object \n",
      " 3   dependents         599 non-null    float64\n",
      " 4   education          614 non-null    object \n",
      " 5   self_employed      582 non-null    object \n",
      " 6   applicantincome    614 non-null    int64  \n",
      " 7   coapplicantincome  614 non-null    float64\n",
      " 8   loanamount         592 non-null    float64\n",
      " 9   loan_amount_term   600 non-null    float64\n",
      " 10  credit_history     564 non-null    float64\n",
      " 11  property_area      614 non-null    object \n",
      " 12  loan_status        614 non-null    object \n",
      "dtypes: float64(5), int64(1), object(7)\n",
      "memory usage: 62.5+ KB\n"
     ]
    }
   ],
   "source": [
    "df.info()"
   ]
  },
  {
   "cell_type": "markdown",
   "id": "ef5ed905",
   "metadata": {
    "id": "8c79a95e"
   },
   "source": [
    "### 3. Check for missing values in the dataset. If present, handle them with appropriate methods, and drop redundant features. (2)"
   ]
  },
  {
   "cell_type": "code",
   "execution_count": 7,
   "id": "56b79e6d",
   "metadata": {},
   "outputs": [
    {
     "data": {
      "text/plain": [
       "loan_id              0.000000\n",
       "gender               2.117264\n",
       "married              0.488599\n",
       "dependents           2.442997\n",
       "education            0.000000\n",
       "self_employed        5.211726\n",
       "applicantincome      0.000000\n",
       "coapplicantincome    0.000000\n",
       "loanamount           3.583062\n",
       "loan_amount_term     2.280130\n",
       "credit_history       8.143322\n",
       "property_area        0.000000\n",
       "loan_status          0.000000\n",
       "dtype: float64"
      ]
     },
     "execution_count": 7,
     "metadata": {},
     "output_type": "execute_result"
    }
   ],
   "source": [
    "## Checking for missing values\n",
    "(df.isnull().sum() / len(df)) * 100"
   ]
  },
  {
   "cell_type": "code",
   "execution_count": 8,
   "id": "3dd58f84",
   "metadata": {
    "scrolled": true
   },
   "outputs": [
    {
     "data": {
      "text/plain": [
       "loan_id              0\n",
       "gender               0\n",
       "married              0\n",
       "dependents           0\n",
       "education            0\n",
       "self_employed        0\n",
       "applicantincome      0\n",
       "coapplicantincome    0\n",
       "loanamount           0\n",
       "loan_amount_term     0\n",
       "credit_history       0\n",
       "property_area        0\n",
       "loan_status          0\n",
       "dtype: int64"
      ]
     },
     "execution_count": 8,
     "metadata": {},
     "output_type": "execute_result"
    }
   ],
   "source": [
    "## Imputing missing data\n",
    "missing = df.isnull().sum()/len(df)\n",
    "\n",
    "## Getting indexes with missing values\n",
    "index = [i  for i in missing[missing>0].index]\n",
    "\n",
    "\n",
    "## Filling null values of numeric columns with their median values\n",
    "num_col = [i     \n",
    "           for i in index      \n",
    "           if i in df.columns and  df[i].dtype!=object]\n",
    "\n",
    "for col in num_col:\n",
    "    df[col]=df[col].fillna(df[col].median())\n",
    "\n",
    "    \n",
    "## Filling null values of non-numeric columns with their mode values\n",
    "cat_col = [i     \n",
    "           for i in index      \n",
    "           if i in df.columns and  df[i].dtype==object]\n",
    "\n",
    "for col in cat_col:\n",
    "    df[col]=df[col].fillna(df[col].mode()[0])\n",
    "    \n",
    "\n",
    "## Re-checking missing values\n",
    "df.isnull().sum()"
   ]
  },
  {
   "cell_type": "code",
   "execution_count": 9,
   "id": "389a5e65",
   "metadata": {},
   "outputs": [
    {
     "data": {
      "text/plain": [
       "Index(['loan_id', 'gender', 'married', 'dependents', 'education',\n",
       "       'self_employed', 'applicantincome', 'coapplicantincome', 'loanamount',\n",
       "       'loan_amount_term', 'credit_history', 'property_area', 'loan_status'],\n",
       "      dtype='object')"
      ]
     },
     "execution_count": 9,
     "metadata": {},
     "output_type": "execute_result"
    }
   ],
   "source": [
    "df.columns"
   ]
  },
  {
   "cell_type": "code",
   "execution_count": 10,
   "id": "2ac8940b",
   "metadata": {
    "scrolled": true
   },
   "outputs": [
    {
     "data": {
      "text/html": [
       "<div>\n",
       "<style scoped>\n",
       "    .dataframe tbody tr th:only-of-type {\n",
       "        vertical-align: middle;\n",
       "    }\n",
       "\n",
       "    .dataframe tbody tr th {\n",
       "        vertical-align: top;\n",
       "    }\n",
       "\n",
       "    .dataframe thead th {\n",
       "        text-align: right;\n",
       "    }\n",
       "</style>\n",
       "<table border=\"1\" class=\"dataframe\">\n",
       "  <thead>\n",
       "    <tr style=\"text-align: right;\">\n",
       "      <th></th>\n",
       "      <th>gender</th>\n",
       "      <th>married</th>\n",
       "      <th>dependents</th>\n",
       "      <th>education</th>\n",
       "      <th>self_employed</th>\n",
       "      <th>applicantincome</th>\n",
       "      <th>coapplicantincome</th>\n",
       "      <th>loanamount</th>\n",
       "      <th>loan_amount_term</th>\n",
       "      <th>credit_history</th>\n",
       "      <th>property_area</th>\n",
       "      <th>loan_status</th>\n",
       "    </tr>\n",
       "  </thead>\n",
       "  <tbody>\n",
       "    <tr>\n",
       "      <th>0</th>\n",
       "      <td>male</td>\n",
       "      <td>no</td>\n",
       "      <td>0.0</td>\n",
       "      <td>graduate</td>\n",
       "      <td>no</td>\n",
       "      <td>5849</td>\n",
       "      <td>0.0</td>\n",
       "      <td>128.0</td>\n",
       "      <td>360.0</td>\n",
       "      <td>1.0</td>\n",
       "      <td>urban</td>\n",
       "      <td>y</td>\n",
       "    </tr>\n",
       "    <tr>\n",
       "      <th>1</th>\n",
       "      <td>male</td>\n",
       "      <td>yes</td>\n",
       "      <td>1.0</td>\n",
       "      <td>graduate</td>\n",
       "      <td>no</td>\n",
       "      <td>4583</td>\n",
       "      <td>1508.0</td>\n",
       "      <td>128.0</td>\n",
       "      <td>360.0</td>\n",
       "      <td>1.0</td>\n",
       "      <td>rural</td>\n",
       "      <td>n</td>\n",
       "    </tr>\n",
       "    <tr>\n",
       "      <th>2</th>\n",
       "      <td>male</td>\n",
       "      <td>yes</td>\n",
       "      <td>0.0</td>\n",
       "      <td>graduate</td>\n",
       "      <td>yes</td>\n",
       "      <td>3000</td>\n",
       "      <td>0.0</td>\n",
       "      <td>66.0</td>\n",
       "      <td>360.0</td>\n",
       "      <td>1.0</td>\n",
       "      <td>urban</td>\n",
       "      <td>y</td>\n",
       "    </tr>\n",
       "    <tr>\n",
       "      <th>3</th>\n",
       "      <td>male</td>\n",
       "      <td>yes</td>\n",
       "      <td>0.0</td>\n",
       "      <td>not graduate</td>\n",
       "      <td>no</td>\n",
       "      <td>2583</td>\n",
       "      <td>2358.0</td>\n",
       "      <td>120.0</td>\n",
       "      <td>360.0</td>\n",
       "      <td>1.0</td>\n",
       "      <td>urban</td>\n",
       "      <td>y</td>\n",
       "    </tr>\n",
       "    <tr>\n",
       "      <th>4</th>\n",
       "      <td>male</td>\n",
       "      <td>no</td>\n",
       "      <td>0.0</td>\n",
       "      <td>graduate</td>\n",
       "      <td>no</td>\n",
       "      <td>6000</td>\n",
       "      <td>0.0</td>\n",
       "      <td>141.0</td>\n",
       "      <td>360.0</td>\n",
       "      <td>1.0</td>\n",
       "      <td>urban</td>\n",
       "      <td>y</td>\n",
       "    </tr>\n",
       "  </tbody>\n",
       "</table>\n",
       "</div>"
      ],
      "text/plain": [
       "  gender married  dependents     education self_employed  applicantincome  \\\n",
       "0   male      no         0.0      graduate            no             5849   \n",
       "1   male     yes         1.0      graduate            no             4583   \n",
       "2   male     yes         0.0      graduate           yes             3000   \n",
       "3   male     yes         0.0  not graduate            no             2583   \n",
       "4   male      no         0.0      graduate            no             6000   \n",
       "\n",
       "   coapplicantincome  loanamount  loan_amount_term  credit_history  \\\n",
       "0                0.0       128.0             360.0             1.0   \n",
       "1             1508.0       128.0             360.0             1.0   \n",
       "2                0.0        66.0             360.0             1.0   \n",
       "3             2358.0       120.0             360.0             1.0   \n",
       "4                0.0       141.0             360.0             1.0   \n",
       "\n",
       "  property_area loan_status  \n",
       "0         urban           y  \n",
       "1         rural           n  \n",
       "2         urban           y  \n",
       "3         urban           y  \n",
       "4         urban           y  "
      ]
     },
     "execution_count": 10,
     "metadata": {},
     "output_type": "execute_result"
    }
   ],
   "source": [
    "## Dropping redundant columns\n",
    "df.drop('loan_id', axis=1, inplace=True)\n",
    "df.head(5)"
   ]
  },
  {
   "cell_type": "markdown",
   "id": "5aebfeb4",
   "metadata": {
    "id": "8c79a95e"
   },
   "source": [
    "### 4. Visualize the distribution of the target column 'loan_status' with respect to various categorical features and write your observations. (2)"
   ]
  },
  {
   "cell_type": "code",
   "execution_count": 11,
   "id": "c4e0354b",
   "metadata": {},
   "outputs": [
    {
     "data": {
      "image/png": "[encoded data removed]",
      "text/plain": [
       "<Figure size 3000x7500 with 7 Axes>"
      ]
     },
     "metadata": {},
     "output_type": "display_data"
    }
   ],
   "source": [
    "df_cat_obj = df[['gender', 'married', 'education', 'self_employed', 'property_area']].copy()\n",
    "df_cat_nonobj = df[['dependents', 'credit_history']].copy()\n",
    "df_cat = pd.concat([df_cat_obj, df_cat_nonobj], axis=1, join='inner')\n",
    "\n",
    "i = 1\n",
    "plt.figure(figsize = (30, 75))\n",
    "for col in df_cat:\n",
    "    plt.subplot(8,2,i)\n",
    "    sns.countplot(data = df, x = col, hue = 'loan_status')\n",
    "    plt.legend(loc=\"upper right\", frameon=True, fontsize=20)\n",
    "    i += 1"
   ]
  },
  {
   "cell_type": "markdown",
   "id": "f3c10879",
   "metadata": {},
   "source": [
    "###### From the above visualizations, we can observe the following (inferences limited to current dataset):\n",
    "- Men have a higher loan approval chance than women.\n",
    "- Married people have a higher loan eligibility than unmarried people.\n",
    "- Education plays an importan role in obtaining loans/credits, as graduates have a higher approval than non-graduates.\n",
    "- Creditors tend to prefer salaried employees for loans, as self-employed people have a lower approval in the above dataset.\n",
    "- People in rural areas have lower loan eligibility than people in urban areas. People from semi-urban areas have the highest loan approval chance among the three.\n",
    "- People with lesser number of dependents generally have a higher chace of loan-approval.\n",
    "- People with a good credit history have a higher loan eligibility than ones with history of credit defaulting."
   ]
  },
  {
   "cell_type": "markdown",
   "id": "fcc94e32",
   "metadata": {
    "id": "8c79a95e"
   },
   "source": [
    "### 5. Encode the categorical data. (2)"
   ]
  },
  {
   "cell_type": "code",
   "execution_count": 12,
   "id": "1c809701",
   "metadata": {},
   "outputs": [
    {
     "data": {
      "text/html": [
       "<div>\n",
       "<style scoped>\n",
       "    .dataframe tbody tr th:only-of-type {\n",
       "        vertical-align: middle;\n",
       "    }\n",
       "\n",
       "    .dataframe tbody tr th {\n",
       "        vertical-align: top;\n",
       "    }\n",
       "\n",
       "    .dataframe thead th {\n",
       "        text-align: right;\n",
       "    }\n",
       "</style>\n",
       "<table border=\"1\" class=\"dataframe\">\n",
       "  <thead>\n",
       "    <tr style=\"text-align: right;\">\n",
       "      <th></th>\n",
       "      <th>gender</th>\n",
       "      <th>married</th>\n",
       "      <th>dependents</th>\n",
       "      <th>education</th>\n",
       "      <th>self_employed</th>\n",
       "      <th>applicantincome</th>\n",
       "      <th>coapplicantincome</th>\n",
       "      <th>loanamount</th>\n",
       "      <th>loan_amount_term</th>\n",
       "      <th>credit_history</th>\n",
       "      <th>property_area</th>\n",
       "      <th>loan_status</th>\n",
       "    </tr>\n",
       "  </thead>\n",
       "  <tbody>\n",
       "    <tr>\n",
       "      <th>0</th>\n",
       "      <td>1</td>\n",
       "      <td>0</td>\n",
       "      <td>0</td>\n",
       "      <td>0</td>\n",
       "      <td>0</td>\n",
       "      <td>5849</td>\n",
       "      <td>0.0</td>\n",
       "      <td>128.0</td>\n",
       "      <td>360.0</td>\n",
       "      <td>1</td>\n",
       "      <td>2</td>\n",
       "      <td>y</td>\n",
       "    </tr>\n",
       "    <tr>\n",
       "      <th>1</th>\n",
       "      <td>1</td>\n",
       "      <td>1</td>\n",
       "      <td>1</td>\n",
       "      <td>0</td>\n",
       "      <td>0</td>\n",
       "      <td>4583</td>\n",
       "      <td>1508.0</td>\n",
       "      <td>128.0</td>\n",
       "      <td>360.0</td>\n",
       "      <td>1</td>\n",
       "      <td>0</td>\n",
       "      <td>n</td>\n",
       "    </tr>\n",
       "    <tr>\n",
       "      <th>2</th>\n",
       "      <td>1</td>\n",
       "      <td>1</td>\n",
       "      <td>0</td>\n",
       "      <td>0</td>\n",
       "      <td>1</td>\n",
       "      <td>3000</td>\n",
       "      <td>0.0</td>\n",
       "      <td>66.0</td>\n",
       "      <td>360.0</td>\n",
       "      <td>1</td>\n",
       "      <td>2</td>\n",
       "      <td>y</td>\n",
       "    </tr>\n",
       "    <tr>\n",
       "      <th>3</th>\n",
       "      <td>1</td>\n",
       "      <td>1</td>\n",
       "      <td>0</td>\n",
       "      <td>1</td>\n",
       "      <td>0</td>\n",
       "      <td>2583</td>\n",
       "      <td>2358.0</td>\n",
       "      <td>120.0</td>\n",
       "      <td>360.0</td>\n",
       "      <td>1</td>\n",
       "      <td>2</td>\n",
       "      <td>y</td>\n",
       "    </tr>\n",
       "    <tr>\n",
       "      <th>4</th>\n",
       "      <td>1</td>\n",
       "      <td>0</td>\n",
       "      <td>0</td>\n",
       "      <td>0</td>\n",
       "      <td>0</td>\n",
       "      <td>6000</td>\n",
       "      <td>0.0</td>\n",
       "      <td>141.0</td>\n",
       "      <td>360.0</td>\n",
       "      <td>1</td>\n",
       "      <td>2</td>\n",
       "      <td>y</td>\n",
       "    </tr>\n",
       "  </tbody>\n",
       "</table>\n",
       "</div>"
      ],
      "text/plain": [
       "   gender  married  dependents  education  self_employed  applicantincome  \\\n",
       "0       1        0           0          0              0             5849   \n",
       "1       1        1           1          0              0             4583   \n",
       "2       1        1           0          0              1             3000   \n",
       "3       1        1           0          1              0             2583   \n",
       "4       1        0           0          0              0             6000   \n",
       "\n",
       "   coapplicantincome  loanamount  loan_amount_term  credit_history  \\\n",
       "0                0.0       128.0             360.0               1   \n",
       "1             1508.0       128.0             360.0               1   \n",
       "2                0.0        66.0             360.0               1   \n",
       "3             2358.0       120.0             360.0               1   \n",
       "4                0.0       141.0             360.0               1   \n",
       "\n",
       "   property_area loan_status  \n",
       "0              2           y  \n",
       "1              0           n  \n",
       "2              2           y  \n",
       "3              2           y  \n",
       "4              2           y  "
      ]
     },
     "execution_count": 12,
     "metadata": {},
     "output_type": "execute_result"
    }
   ],
   "source": [
    "# Encoding the categorical variables\n",
    "cat = df_cat.columns\n",
    "df1 = df.copy()\n",
    "\n",
    "# Initializing Label Encoder\n",
    "le = LabelEncoder()\n",
    "\n",
    "for i in cat:\n",
    "    df1[i]=df1[[i]].apply(le.fit_transform).astype(np.uint8)\n",
    "    \n",
    "df1.head(5)"
   ]
  },
  {
   "cell_type": "markdown",
   "id": "eb1f5809",
   "metadata": {
    "id": "8c79a95e"
   },
   "source": [
    "### 6. Separate the target and independent features and split the data into train and test. (2)"
   ]
  },
  {
   "cell_type": "code",
   "execution_count": 13,
   "id": "0efdc68f",
   "metadata": {},
   "outputs": [],
   "source": [
    "## Separating the target and independent features\n",
    "X = df1.drop('loan_status', axis=1)\n",
    "y = df1['loan_status']"
   ]
  },
  {
   "cell_type": "code",
   "execution_count": 14,
   "id": "e4c2519a",
   "metadata": {},
   "outputs": [
    {
     "name": "stdout",
     "output_type": "stream",
     "text": [
      "(429, 11) (185, 11) (429,) (185,)\n"
     ]
    }
   ],
   "source": [
    "# splitting dataset into train-test subsets\n",
    "X_train, X_test, y_train, y_test = train_test_split(X, y, test_size=0.3, random_state=1)\n",
    "print(X_train.shape, X_test.shape, y_train.shape, y_test.shape)"
   ]
  },
  {
   "cell_type": "markdown",
   "id": "3e0e106b",
   "metadata": {
    "id": "8c79a95e"
   },
   "source": [
    "### 7. Build a classification model to predict the loan eligibility status of the customer and save your model using pickle. (3)"
   ]
  },
  {
   "cell_type": "code",
   "execution_count": 15,
   "id": "fcf8ca27",
   "metadata": {},
   "outputs": [],
   "source": [
    "# function 'fitNpredict' takes the model and data as inputs  \n",
    "def fitNpredict(model, X_train, X_test, y_train, y_test):\n",
    "    \n",
    "    # fits the model with the train data \n",
    "    model.fit(X_train.values, y_train)\n",
    "    \n",
    "    # makes predictions on the test set\n",
    "    predictions = model.predict(X_test)\n",
    "    \n",
    "    # calculates the accuracy score\n",
    "    score = accuracy_score(y_test, predictions)                 \n",
    "    \n",
    "    # returns the accuracy score\n",
    "    return score   "
   ]
  },
  {
   "cell_type": "code",
   "execution_count": 16,
   "id": "87aec9ea",
   "metadata": {},
   "outputs": [
    {
     "data": {
      "text/html": [
       "<div>\n",
       "<style scoped>\n",
       "    .dataframe tbody tr th:only-of-type {\n",
       "        vertical-align: middle;\n",
       "    }\n",
       "\n",
       "    .dataframe tbody tr th {\n",
       "        vertical-align: top;\n",
       "    }\n",
       "\n",
       "    .dataframe thead th {\n",
       "        text-align: right;\n",
       "    }\n",
       "</style>\n",
       "<table border=\"1\" class=\"dataframe\">\n",
       "  <thead>\n",
       "    <tr style=\"text-align: right;\">\n",
       "      <th></th>\n",
       "      <th>Logistic Regression</th>\n",
       "    </tr>\n",
       "  </thead>\n",
       "  <tbody>\n",
       "    <tr>\n",
       "      <th>0</th>\n",
       "      <td>0.794595</td>\n",
       "    </tr>\n",
       "  </tbody>\n",
       "</table>\n",
       "</div>"
      ],
      "text/plain": [
       "   Logistic Regression\n",
       "0             0.794595"
      ]
     },
     "execution_count": 16,
     "metadata": {},
     "output_type": "execute_result"
    }
   ],
   "source": [
    "lr = LogisticRegression()\n",
    "result = fitNpredict(lr, X_train, X_test, y_train, y_test)\n",
    "\n",
    "rs = pd.DataFrame()\n",
    "rs['Logistic Regression'] = pd.Series(result)\n",
    "rs"
   ]
  },
  {
   "cell_type": "code",
   "execution_count": 17,
   "id": "97875389",
   "metadata": {},
   "outputs": [],
   "source": [
    "import pickle\n",
    "#saving model to disk\n",
    "pickle.dump(lr, open('model.pkl', 'wb'))"
   ]
  },
  {
   "cell_type": "markdown",
   "id": "0eee3260",
   "metadata": {},
   "source": [
    "### NEXT : Python Flask ML Application development (35 points)"
   ]
  }
 ],
 "metadata": {
  "kernelspec": {
   "display_name": "Python 3 (ipykernel)",
   "language": "python",
   "name": "python3"
  },
  "language_info": {
   "codemirror_mode": {
    "name": "ipython",
    "version": 3
   },
   "file_extension": ".py",
   "mimetype": "text/x-python",
   "name": "python",
   "nbconvert_exporter": "python",
   "pygments_lexer": "ipython3",
   "version": "3.10.9"
  }
 },
 "nbformat": 4,
 "nbformat_minor": 5
}
